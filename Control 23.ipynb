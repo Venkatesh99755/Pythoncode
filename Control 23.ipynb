{
 "cells": [
  {
   "cell_type": "code",
   "execution_count": 1,
   "id": "eb1fe2c8",
   "metadata": {},
   "outputs": [
    {
     "name": "stdout",
     "output_type": "stream",
     "text": [
      "line 1\n",
      "line 2\n",
      "line 3\n"
     ]
    }
   ],
   "source": [
    "print(\"line 1\")\n",
    "print(\"line 2\")\n",
    "print(\"line 3\")"
   ]
  },
  {
   "cell_type": "code",
   "execution_count": null,
   "id": "5af10a93",
   "metadata": {},
   "outputs": [],
   "source": [
    "#control statements\n",
    "simple if\n",
    "if-else\n",
    "if-else  ladder\n",
    "nested if -else"
   ]
  },
  {
   "cell_type": "code",
   "execution_count": null,
   "id": "96f4e814",
   "metadata": {},
   "outputs": [],
   "source": [
    "if condition:\n",
    "    print(\"dsfdsg\")\n",
    "print(\"asdsa\")"
   ]
  },
  {
   "cell_type": "code",
   "execution_count": 3,
   "id": "6d847b29",
   "metadata": {},
   "outputs": [
    {
     "name": "stdout",
     "output_type": "stream",
     "text": [
      "welcome to vaccination program\n",
      "Enter the age:50\n",
      "Take vaccination on priority\n",
      "Thanks for visiting..\n"
     ]
    }
   ],
   "source": [
    "print(\"welcome to vaccination program\")\n",
    "age = int(input(\"Enter the age:\"))\n",
    "if age>45: # True\n",
    "    print(\"Take vaccination on priority\")\n",
    "print(\"Thanks for visiting..\")"
   ]
  },
  {
   "cell_type": "code",
   "execution_count": 12,
   "id": "ac7382e1",
   "metadata": {},
   "outputs": [
    {
     "name": "stdout",
     "output_type": "stream",
     "text": [
      "Enter the value:30\n"
     ]
    }
   ],
   "source": [
    "x = input(\"Enter the value:\")"
   ]
  },
  {
   "cell_type": "code",
   "execution_count": 13,
   "id": "94e392d2",
   "metadata": {},
   "outputs": [
    {
     "data": {
      "text/plain": [
       "str"
      ]
     },
     "execution_count": 13,
     "metadata": {},
     "output_type": "execute_result"
    }
   ],
   "source": [
    "type(x)"
   ]
  },
  {
   "cell_type": "code",
   "execution_count": 14,
   "id": "22d69c6e",
   "metadata": {},
   "outputs": [],
   "source": [
    "x = int(x)"
   ]
  },
  {
   "cell_type": "code",
   "execution_count": 15,
   "id": "73b4cf0a",
   "metadata": {},
   "outputs": [
    {
     "data": {
      "text/plain": [
       "30"
      ]
     },
     "execution_count": 15,
     "metadata": {},
     "output_type": "execute_result"
    }
   ],
   "source": [
    "x"
   ]
  },
  {
   "cell_type": "code",
   "execution_count": 16,
   "id": "a5e7730f",
   "metadata": {},
   "outputs": [
    {
     "data": {
      "text/plain": [
       "int"
      ]
     },
     "execution_count": 16,
     "metadata": {},
     "output_type": "execute_result"
    }
   ],
   "source": [
    "type(x)"
   ]
  },
  {
   "cell_type": "code",
   "execution_count": 17,
   "id": "d05eee11",
   "metadata": {},
   "outputs": [],
   "source": [
    "#only one condtion---simple if"
   ]
  },
  {
   "cell_type": "code",
   "execution_count": null,
   "id": "f2ac8014",
   "metadata": {},
   "outputs": [],
   "source": []
  },
  {
   "cell_type": "code",
   "execution_count": null,
   "id": "4b32f358",
   "metadata": {},
   "outputs": [],
   "source": [
    "if condition: # True  False\n",
    "    block\n",
    "else:  # False True\n",
    "    block"
   ]
  },
  {
   "cell_type": "code",
   "execution_count": 19,
   "id": "cb96488e",
   "metadata": {},
   "outputs": [
    {
     "name": "stdout",
     "output_type": "stream",
     "text": [
      "welcome to vaccination program\n",
      "Enter the age:50\n",
      "Take vaccination on priority\n",
      "Thanks for visiting..\n"
     ]
    }
   ],
   "source": [
    "print(\"welcome to vaccination program\")\n",
    "age = int(input(\"Enter the age:\"))\n",
    "if age>45: # True\n",
    "    print(\"Take vaccination on priority\")\n",
    "else:\n",
    "    print(\"Wait for your turn\")\n",
    "print(\"Thanks for visiting..\")"
   ]
  },
  {
   "cell_type": "code",
   "execution_count": 20,
   "id": "7dd91b85",
   "metadata": {},
   "outputs": [],
   "source": [
    "#WAP to check number is positive or negative   "
   ]
  },
  {
   "cell_type": "code",
   "execution_count": 31,
   "id": "0023e4ff",
   "metadata": {},
   "outputs": [
    {
     "name": "stdout",
     "output_type": "stream",
     "text": [
      "Welcome to number check program\n",
      "Enter the number:70\n",
      "70 is positive\n",
      "Thanks for using our service\n"
     ]
    }
   ],
   "source": [
    "print(\"Welcome to number check program\")\n",
    "no = int(input(\"Enter the number:\"))\n",
    "if no>=0:\n",
    "    print('{} is positive'.format(no))\n",
    "else:\n",
    "    print(f'{no} is negative')\n",
    "print(\"Thanks for using our service\")"
   ]
  },
  {
   "cell_type": "code",
   "execution_count": 29,
   "id": "773d2696",
   "metadata": {},
   "outputs": [],
   "source": [
    "v = 'java'"
   ]
  },
  {
   "cell_type": "code",
   "execution_count": 30,
   "id": "cec1e394",
   "metadata": {},
   "outputs": [
    {
     "data": {
      "text/plain": [
       "'java is not suitable for ML'"
      ]
     },
     "execution_count": 30,
     "metadata": {},
     "output_type": "execute_result"
    }
   ],
   "source": [
    "f'{v} is not suitable for ML'"
   ]
  },
  {
   "cell_type": "code",
   "execution_count": 32,
   "id": "259e0b95",
   "metadata": {},
   "outputs": [
    {
     "name": "stdout",
     "output_type": "stream",
     "text": [
      "Welcome to number check program\n",
      "Enter the number:30\n",
      "30 is positive\n",
      "Thanks for using our service\n"
     ]
    }
   ],
   "source": [
    "print(\"Welcome to number check program\")\n",
    "no = int(input(\"Enter the number:\"))\n",
    "if no>=0:\n",
    "    print(no,'is positive')\n",
    "else :\n",
    "    print(f'{no} is negative')\n",
    "print(\"Thanks for using our service\")"
   ]
  },
  {
   "cell_type": "code",
   "execution_count": 33,
   "id": "0f85947a",
   "metadata": {},
   "outputs": [],
   "source": [
    "b = 100"
   ]
  },
  {
   "cell_type": "code",
   "execution_count": 34,
   "id": "fe90a671",
   "metadata": {},
   "outputs": [
    {
     "name": "stdout",
     "output_type": "stream",
     "text": [
      "100\n"
     ]
    }
   ],
   "source": [
    "print(b)"
   ]
  },
  {
   "cell_type": "code",
   "execution_count": 35,
   "id": "a59a773e",
   "metadata": {},
   "outputs": [],
   "source": [
    "# if we have more than two condition\n",
    "\n",
    "else  never never never having condition"
   ]
  },
  {
   "cell_type": "code",
   "execution_count": null,
   "id": "4b79dcf8",
   "metadata": {},
   "outputs": [],
   "source": []
  },
  {
   "cell_type": "code",
   "execution_count": null,
   "id": "c52501e5",
   "metadata": {},
   "outputs": [],
   "source": []
  },
  {
   "cell_type": "code",
   "execution_count": null,
   "id": "ae93b060",
   "metadata": {},
   "outputs": [],
   "source": [
    "age > 45 less than 100\n",
    "age > 18 less than 45 \n",
    "wait kar \n",
    "age > 0 and less 18 \n",
    "testing phase\n",
    "\n",
    "\n",
    "invalid input"
   ]
  },
  {
   "cell_type": "code",
   "execution_count": null,
   "id": "1bc788ff",
   "metadata": {},
   "outputs": [],
   "source": []
  },
  {
   "cell_type": "code",
   "execution_count": null,
   "id": "e1fa3a12",
   "metadata": {},
   "outputs": [],
   "source": [
    "if condition:\n",
    "\n",
    "elif condition:\n",
    "\n",
    "elif condition:\n",
    "\n",
    "elif condition:\n",
    "\n",
    "else:"
   ]
  },
  {
   "cell_type": "code",
   "execution_count": 41,
   "id": "f750c54c",
   "metadata": {},
   "outputs": [
    {
     "name": "stdout",
     "output_type": "stream",
     "text": [
      "welcome to vaccination program\n",
      "Enter the age:35\n",
      " https://www.cowin.gov.in/ Register your self on COWIN--\n",
      "Thanks for visiting..\n"
     ]
    }
   ],
   "source": [
    "print(\"welcome to vaccination program\")\n",
    "web = 'https://www.cowin.gov.in/'\n",
    "age = int(input(\"Enter the age:\"))\n",
    "if age>=45 and age<=100: # True\n",
    "    print(\"Take vaccination on priority\")\n",
    "elif age>=18 and age <45:\n",
    "    print(f\" {web} Register your self on COWIN--\")\n",
    "elif age >=0 and age <18:\n",
    "    print(\"your vaccination in Testing phase very soon will get\")\n",
    "else:\n",
    "    print(\"invalid input ,pls check input\")\n",
    "print(\"Thanks for visiting..\")"
   ]
  },
  {
   "cell_type": "code",
   "execution_count": null,
   "id": "17f95160",
   "metadata": {},
   "outputs": [],
   "source": []
  },
  {
   "cell_type": "code",
   "execution_count": 44,
   "id": "2a9557d3",
   "metadata": {},
   "outputs": [],
   "source": [
    "d = {'username':'admin','password':'admin@123'}\n",
    "    "
   ]
  },
  {
   "cell_type": "code",
   "execution_count": 45,
   "id": "323ca97c",
   "metadata": {},
   "outputs": [
    {
     "name": "stdout",
     "output_type": "stream",
     "text": [
      "Enter the username:admin\n",
      "Enter the password:admin@123\n",
      "logged in successfully...\n"
     ]
    }
   ],
   "source": [
    "username = input(\"Enter the username:\")\n",
    "password = input(\"Enter the password:\")\n",
    "if d['username']==username and d['password']==password:\n",
    "    print(\"logged in successfully...\")\n",
    "else:\n",
    "    print(\"invalid credentail\")\n"
   ]
  },
  {
   "cell_type": "code",
   "execution_count": null,
   "id": "a5b5f2a0",
   "metadata": {},
   "outputs": [],
   "source": [
    "if condition:\n",
    "    if condition:\n",
    "        block\n",
    "    else:\n",
    "        block\n",
    "else:\n",
    "    if \n",
    "    \n",
    "    \n",
    "    \n",
    "    else"
   ]
  },
  {
   "cell_type": "code",
   "execution_count": null,
   "id": "238903f1",
   "metadata": {},
   "outputs": [],
   "source": []
  },
  {
   "cell_type": "code",
   "execution_count": 49,
   "id": "5d1715fd",
   "metadata": {},
   "outputs": [
    {
     "name": "stdout",
     "output_type": "stream",
     "text": [
      "Enter the username:admin\n",
      "Enter the password:admin@123\n",
      "logged in successfully...\n"
     ]
    }
   ],
   "source": [
    "username = input(\"Enter the username:\")\n",
    "if d['username']==username:\n",
    "    password = input(\"Enter the password:\")\n",
    "    if d['password']==password:\n",
    "        print(\"logged in successfully...\")\n",
    "    else:\n",
    "        print(\"Check password\")\n",
    "else:\n",
    "    print(\"check username\")"
   ]
  },
  {
   "cell_type": "code",
   "execution_count": null,
   "id": "f48cca35",
   "metadata": {},
   "outputs": [],
   "source": [
    "one day --- \n",
    "\n",
    "9 am \n",
    "one hour break \n",
    "6 pm \n",
    "*TC\n",
    "\n",
    "\n"
   ]
  }
 ],
 "metadata": {
  "kernelspec": {
   "display_name": "Python 3",
   "language": "python",
   "name": "python3"
  },
  "language_info": {
   "codemirror_mode": {
    "name": "ipython",
    "version": 3
   },
   "file_extension": ".py",
   "mimetype": "text/x-python",
   "name": "python",
   "nbconvert_exporter": "python",
   "pygments_lexer": "ipython3",
   "version": "3.8.8"
  }
 },
 "nbformat": 4,
 "nbformat_minor": 5
}
